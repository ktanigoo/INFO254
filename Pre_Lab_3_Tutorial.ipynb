{
  "nbformat": 4,
  "nbformat_minor": 0,
  "metadata": {
    "colab": {
      "name": "Pre-Lab 3 Tutorial.ipynb",
      "version": "0.3.2",
      "provenance": [],
      "collapsed_sections": [],
      "include_colab_link": true
    },
    "kernelspec": {
      "display_name": "Python 3",
      "language": "python",
      "name": "python3"
    }
  },
  "cells": [
    {
      "cell_type": "markdown",
      "metadata": {
        "id": "view-in-github",
        "colab_type": "text"
      },
      "source": [
        "<a href=\"https://colab.research.google.com/github/ktanigoo/INFO254/blob/master/Pre_Lab_3_Tutorial.ipynb\" target=\"_parent\"><img src=\"https://colab.research.google.com/assets/colab-badge.svg\" alt=\"Open In Colab\"/></a>"
      ]
    },
    {
      "metadata": {
        "id": "8NZFyDWSIBwz",
        "colab_type": "text"
      },
      "cell_type": "markdown",
      "source": [
        "# Lab 3 - Decision Trees"
      ]
    },
    {
      "metadata": {
        "id": "GDep4hcRIBw1",
        "colab_type": "text"
      },
      "cell_type": "markdown",
      "source": [
        "## Agenda\n",
        "\n",
        "- lambda functions\n",
        "- pandas `map`, `apply`\n",
        "- itertools and counters\n",
        "- classifiers (estimators) from sklearn\n"
      ]
    },
    {
      "metadata": {
        "id": "hD6d76ZfIBw4",
        "colab_type": "code",
        "colab": {}
      },
      "cell_type": "code",
      "source": [
        "import itertools\n",
        "from collections import Counter\n",
        "import pandas as pd\n",
        "import numpy as np\n",
        "\n",
        "from sklearn.tree import DecisionTreeClassifier\n",
        "from sklearn.metrics import accuracy_score"
      ],
      "execution_count": 0,
      "outputs": []
    },
    {
      "metadata": {
        "id": "DUeXwnM3yMWc",
        "colab_type": "text"
      },
      "cell_type": "markdown",
      "source": [
        "### Motivation behind using lambdas with decision trees\n",
        "### Motivation for enumerating sets (refer to gini/slides)\n",
        "\n"
      ]
    },
    {
      "metadata": {
        "id": "J9ig4-nAIBw-",
        "colab_type": "text"
      },
      "cell_type": "markdown",
      "source": [
        "#### Lambda Function Review\n",
        "\n",
        "Lambda's are one line functions that are not named. Write a function to find the reciprocal of a number. "
      ]
    },
    {
      "metadata": {
        "id": "sYXgvEO0IBw_",
        "colab_type": "code",
        "colab": {}
      },
      "cell_type": "code",
      "source": [
        "\n",
        "  \n",
        " "
      ],
      "execution_count": 0,
      "outputs": []
    },
    {
      "metadata": {
        "id": "hJfMlIIhIBxD",
        "colab_type": "text"
      },
      "cell_type": "markdown",
      "source": [
        "#### Map and Apply in Pandas\n",
        "\n",
        "- find the reciprocal of column 'E'\n",
        "- find the reciprocal of all columns\n",
        "- find the mean of all columns\n",
        "- find the mean of each row"
      ]
    },
    {
      "metadata": {
        "id": "6LNdnijnIBxE",
        "colab_type": "code",
        "outputId": "304776aa-84f3-40c6-ddb1-62ac04d0fd2e",
        "colab": {
          "base_uri": "https://localhost:8080/",
          "height": 204
        }
      },
      "cell_type": "code",
      "source": [
        "dummy_data = pd.DataFrame(np.random.randint(1,100,size=(100, 5)), columns=list('ABCDE'))\n",
        "\n",
        "dummy_data.head()"
      ],
      "execution_count": 0,
      "outputs": [
        {
          "output_type": "execute_result",
          "data": {
            "text/html": [
              "<div>\n",
              "<style scoped>\n",
              "    .dataframe tbody tr th:only-of-type {\n",
              "        vertical-align: middle;\n",
              "    }\n",
              "\n",
              "    .dataframe tbody tr th {\n",
              "        vertical-align: top;\n",
              "    }\n",
              "\n",
              "    .dataframe thead th {\n",
              "        text-align: right;\n",
              "    }\n",
              "</style>\n",
              "<table border=\"1\" class=\"dataframe\">\n",
              "  <thead>\n",
              "    <tr style=\"text-align: right;\">\n",
              "      <th></th>\n",
              "      <th>A</th>\n",
              "      <th>B</th>\n",
              "      <th>C</th>\n",
              "      <th>D</th>\n",
              "      <th>E</th>\n",
              "    </tr>\n",
              "  </thead>\n",
              "  <tbody>\n",
              "    <tr>\n",
              "      <th>0</th>\n",
              "      <td>1</td>\n",
              "      <td>40</td>\n",
              "      <td>68</td>\n",
              "      <td>99</td>\n",
              "      <td>62</td>\n",
              "    </tr>\n",
              "    <tr>\n",
              "      <th>1</th>\n",
              "      <td>86</td>\n",
              "      <td>36</td>\n",
              "      <td>22</td>\n",
              "      <td>62</td>\n",
              "      <td>20</td>\n",
              "    </tr>\n",
              "    <tr>\n",
              "      <th>2</th>\n",
              "      <td>54</td>\n",
              "      <td>69</td>\n",
              "      <td>91</td>\n",
              "      <td>83</td>\n",
              "      <td>33</td>\n",
              "    </tr>\n",
              "    <tr>\n",
              "      <th>3</th>\n",
              "      <td>95</td>\n",
              "      <td>76</td>\n",
              "      <td>79</td>\n",
              "      <td>72</td>\n",
              "      <td>68</td>\n",
              "    </tr>\n",
              "    <tr>\n",
              "      <th>4</th>\n",
              "      <td>91</td>\n",
              "      <td>83</td>\n",
              "      <td>66</td>\n",
              "      <td>31</td>\n",
              "      <td>89</td>\n",
              "    </tr>\n",
              "  </tbody>\n",
              "</table>\n",
              "</div>"
            ],
            "text/plain": [
              "    A   B   C   D   E\n",
              "0   1  40  68  99  62\n",
              "1  86  36  22  62  20\n",
              "2  54  69  91  83  33\n",
              "3  95  76  79  72  68\n",
              "4  91  83  66  31  89"
            ]
          },
          "metadata": {
            "tags": []
          },
          "execution_count": 48
        }
      ]
    },
    {
      "metadata": {
        "id": "l8N7YsZAJ2CB",
        "colab_type": "code",
        "colab": {}
      },
      "cell_type": "code",
      "source": [
        "# Your code"
      ],
      "execution_count": 0,
      "outputs": []
    },
    {
      "metadata": {
        "id": "BGVFmr0tIBxJ",
        "colab_type": "text"
      },
      "cell_type": "markdown",
      "source": [
        "#### Itertools and counters\n",
        "\n",
        "- iterable\n",
        "- chain\n",
        "- combinations"
      ]
    },
    {
      "metadata": {
        "id": "De4JqwFQIBxM",
        "colab_type": "code",
        "outputId": "d0f3469e-20ab-46b5-ac8a-d923efe72a54",
        "colab": {
          "base_uri": "https://localhost:8080/",
          "height": 68
        }
      },
      "cell_type": "code",
      "source": [
        "i = iter(range(7)) \n",
        "\n",
        "print(next(i))\n",
        "print(next(i))\n",
        "\n",
        "i"
      ],
      "execution_count": 0,
      "outputs": [
        {
          "output_type": "stream",
          "text": [
            "0\n",
            "1\n"
          ],
          "name": "stdout"
        },
        {
          "output_type": "execute_result",
          "data": {
            "text/plain": [
              "<range_iterator at 0x7f14ef792600>"
            ]
          },
          "metadata": {
            "tags": []
          },
          "execution_count": 24
        }
      ]
    },
    {
      "metadata": {
        "id": "T0gnZnL7IBxT",
        "colab_type": "code",
        "colab": {}
      },
      "cell_type": "code",
      "source": [
        "#for combo in itertools.combinations(i, 3):\n",
        " #   print(combo)\n",
        "    \n",
        "#list(itertools.combinations(i, 3))\n",
        "\n",
        "\n",
        "#list(itertools.chain.from_iterable(itertools.combinations(i, 3)))"
      ],
      "execution_count": 0,
      "outputs": []
    },
    {
      "metadata": {
        "id": "RFHi6Ua8IBxb",
        "colab_type": "text"
      },
      "cell_type": "markdown",
      "source": [
        "Write a function to get the power set of a list. You can assume that it will fit in memory."
      ]
    },
    {
      "metadata": {
        "id": "X9gjcMvDIBxc",
        "colab_type": "code",
        "outputId": "d23a4e94-58f4-4453-8a96-ce7e94ff8282",
        "colab": {
          "base_uri": "https://localhost:8080/",
          "height": 130
        }
      },
      "cell_type": "code",
      "source": [
        "def power_set(s=\"abcd\"):   \n",
        "  # Your code\n",
        "\n",
        "power_set(\"abcd\")"
      ],
      "execution_count": 0,
      "outputs": [
        {
          "output_type": "error",
          "ename": "IndentationError",
          "evalue": "ignored",
          "traceback": [
            "\u001b[0;36m  File \u001b[0;32m\"<ipython-input-8-15036485fd09>\"\u001b[0;36m, line \u001b[0;32m4\u001b[0m\n\u001b[0;31m    power_set(\"abcd\")\u001b[0m\n\u001b[0m            ^\u001b[0m\n\u001b[0;31mIndentationError\u001b[0m\u001b[0;31m:\u001b[0m expected an indented block\n"
          ]
        }
      ]
    },
    {
      "metadata": {
        "id": "QmBIdhTFIBxf",
        "colab_type": "text"
      },
      "cell_type": "markdown",
      "source": [
        "#### Basic classification using sklearn\n"
      ]
    },
    {
      "metadata": {
        "id": "N4aw4UMxIBxg",
        "colab_type": "code",
        "outputId": "ed59e596-6a35-4daf-846a-d7faf7927ea9",
        "colab": {
          "base_uri": "https://localhost:8080/",
          "height": 34
        }
      },
      "cell_type": "code",
      "source": [
        "dummy_data[\"target\"] = np.random.randint(0,2,size=(100,))\n",
        "\n",
        "X = dummy_data[[\"A\",\"B\",\"C\",\"D\"]]\n",
        "y = dummy_data.target\n",
        "\n",
        "clf = DecisionTreeClassifier(max_depth=4)\n",
        "\n",
        "clf = clf.fit(X, y)\n",
        "y_pred = clf.predict(X)\n",
        "\n",
        "print(accuracy_score(y, y_pred))"
      ],
      "execution_count": 0,
      "outputs": [
        {
          "output_type": "stream",
          "text": [
            "0.72\n"
          ],
          "name": "stdout"
        }
      ]
    },
    {
      "metadata": {
        "id": "UVtGJNgpIBxm",
        "colab_type": "code",
        "outputId": "c450734f-711e-4b5c-aa1b-064b97d8c419",
        "colab": {
          "base_uri": "https://localhost:8080/",
          "height": 68
        }
      },
      "cell_type": "code",
      "source": [
        "print(y_pred)"
      ],
      "execution_count": 0,
      "outputs": [
        {
          "output_type": "stream",
          "text": [
            "[0 0 0 0 1 0 0 0 1 0 1 1 0 0 1 0 0 1 0 0 1 0 0 1 0 0 0 1 0 0 0 0 0 1 0 1 0\n",
            " 0 0 0 0 0 0 1 0 0 0 0 0 1 0 0 1 0 0 0 0 0 0 0 1 0 0 1 0 1 1 0 0 1 0 0 0 0\n",
            " 0 0 0 1 0 0 0 0 0 0 1 1 0 0 0 0 1 0 0 0 0 0 0 0 1 0]\n"
          ],
          "name": "stdout"
        }
      ]
    },
    {
      "metadata": {
        "id": "eU9VWGe4_3KE",
        "colab_type": "code",
        "colab": {}
      },
      "cell_type": "code",
      "source": [
        ""
      ],
      "execution_count": 0,
      "outputs": []
    }
  ]
}