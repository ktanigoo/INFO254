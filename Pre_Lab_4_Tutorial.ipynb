{
  "nbformat": 4,
  "nbformat_minor": 0,
  "metadata": {
    "colab": {
      "name": "Pre-Lab 4 Tutorial.ipynb",
      "version": "0.3.2",
      "provenance": [],
      "collapsed_sections": [],
      "include_colab_link": true
    },
    "kernelspec": {
      "name": "python3",
      "display_name": "Python 3"
    }
  },
  "cells": [
    {
      "cell_type": "markdown",
      "metadata": {
        "id": "view-in-github",
        "colab_type": "text"
      },
      "source": [
        "<a href=\"https://colab.research.google.com/github/ktanigoo/INFO254/blob/master/Pre_Lab_4_Tutorial.ipynb\" target=\"_parent\"><img src=\"https://colab.research.google.com/assets/colab-badge.svg\" alt=\"Open In Colab\"/></a>"
      ]
    },
    {
      "metadata": {
        "id": "ctFz6quvw5MU",
        "colab_type": "code",
        "colab": {}
      },
      "cell_type": "code",
      "source": [
        "import itertools\n",
        "from collections import Counter\n",
        "import pandas as pd\n",
        "import numpy as np"
      ],
      "execution_count": 0,
      "outputs": []
    },
    {
      "metadata": {
        "id": "qZ8NaLl1Bs2X",
        "colab_type": "text"
      },
      "cell_type": "markdown",
      "source": [
        "### SVM: Maximizing the margin. What are support vectors? What is a hyperplane? Why use kernels?"
      ]
    },
    {
      "metadata": {
        "id": "zYItwHYnHfO6",
        "colab_type": "code",
        "outputId": "c3970bc9-a107-46a0-9c01-685247e618c5",
        "colab": {
          "base_uri": "https://localhost:8080/",
          "height": 313
        }
      },
      "cell_type": "code",
      "source": [
        "from IPython.display import Image\n",
        "from IPython.core.display import HTML \n",
        "Image(url= \"https://upload.wikimedia.org/wikipedia/commons/thumb/7/72/SVM_margin.png/300px-SVM_margin.png\")"
      ],
      "execution_count": 0,
      "outputs": [
        {
          "output_type": "execute_result",
          "data": {
            "text/html": [
              "<img src=\"https://upload.wikimedia.org/wikipedia/commons/thumb/7/72/SVM_margin.png/300px-SVM_margin.png\"/>"
            ],
            "text/plain": [
              "<IPython.core.display.Image object>"
            ]
          },
          "metadata": {
            "tags": []
          },
          "execution_count": 28
        }
      ]
    },
    {
      "metadata": {
        "id": "yTkg5i-YxXiQ",
        "colab_type": "text"
      },
      "cell_type": "markdown",
      "source": [
        ""
      ]
    },
    {
      "metadata": {
        "id": "Am87JvBvxb7n",
        "colab_type": "text"
      },
      "cell_type": "markdown",
      "source": [
        "\n",
        "\n",
        "Question 1.a\n",
        "Find the majority class in the training set. If you always predicted this class in the training set, what would your accuracy be?"
      ]
    },
    {
      "metadata": {
        "id": "aNG7qjQOxcm2",
        "colab_type": "code",
        "outputId": "449dc0c8-cb21-4487-bdbf-91e850061b98",
        "colab": {
          "base_uri": "https://localhost:8080/",
          "height": 204
        }
      },
      "cell_type": "code",
      "source": [
        "dummy_data = pd.DataFrame(np.random.randint(1,100,size=(100, 5)), columns=list('ABCDE'))\n",
        "dummy_data[\"target\"] = np.random.randint(0,2,size=(100,))\n",
        "dummy_data.head()"
      ],
      "execution_count": 0,
      "outputs": [
        {
          "output_type": "execute_result",
          "data": {
            "text/html": [
              "<div>\n",
              "<style scoped>\n",
              "    .dataframe tbody tr th:only-of-type {\n",
              "        vertical-align: middle;\n",
              "    }\n",
              "\n",
              "    .dataframe tbody tr th {\n",
              "        vertical-align: top;\n",
              "    }\n",
              "\n",
              "    .dataframe thead th {\n",
              "        text-align: right;\n",
              "    }\n",
              "</style>\n",
              "<table border=\"1\" class=\"dataframe\">\n",
              "  <thead>\n",
              "    <tr style=\"text-align: right;\">\n",
              "      <th></th>\n",
              "      <th>A</th>\n",
              "      <th>B</th>\n",
              "      <th>C</th>\n",
              "      <th>D</th>\n",
              "      <th>E</th>\n",
              "      <th>target</th>\n",
              "    </tr>\n",
              "  </thead>\n",
              "  <tbody>\n",
              "    <tr>\n",
              "      <th>0</th>\n",
              "      <td>97</td>\n",
              "      <td>92</td>\n",
              "      <td>92</td>\n",
              "      <td>65</td>\n",
              "      <td>31</td>\n",
              "      <td>0</td>\n",
              "    </tr>\n",
              "    <tr>\n",
              "      <th>1</th>\n",
              "      <td>27</td>\n",
              "      <td>13</td>\n",
              "      <td>34</td>\n",
              "      <td>35</td>\n",
              "      <td>33</td>\n",
              "      <td>0</td>\n",
              "    </tr>\n",
              "    <tr>\n",
              "      <th>2</th>\n",
              "      <td>13</td>\n",
              "      <td>43</td>\n",
              "      <td>5</td>\n",
              "      <td>1</td>\n",
              "      <td>31</td>\n",
              "      <td>0</td>\n",
              "    </tr>\n",
              "    <tr>\n",
              "      <th>3</th>\n",
              "      <td>69</td>\n",
              "      <td>35</td>\n",
              "      <td>93</td>\n",
              "      <td>87</td>\n",
              "      <td>13</td>\n",
              "      <td>0</td>\n",
              "    </tr>\n",
              "    <tr>\n",
              "      <th>4</th>\n",
              "      <td>67</td>\n",
              "      <td>37</td>\n",
              "      <td>55</td>\n",
              "      <td>87</td>\n",
              "      <td>22</td>\n",
              "      <td>1</td>\n",
              "    </tr>\n",
              "  </tbody>\n",
              "</table>\n",
              "</div>"
            ],
            "text/plain": [
              "    A   B   C   D   E  target\n",
              "0  97  92  92  65  31       0\n",
              "1  27  13  34  35  33       0\n",
              "2  13  43   5   1  31       0\n",
              "3  69  35  93  87  13       0\n",
              "4  67  37  55  87  22       1"
            ]
          },
          "metadata": {
            "tags": []
          },
          "execution_count": 26
        }
      ]
    },
    {
      "metadata": {
        "id": "87cN3_lMx2u9",
        "colab_type": "code",
        "outputId": "08a99ae2-3623-414e-d92c-6b2c348c8b49",
        "colab": {
          "base_uri": "https://localhost:8080/",
          "height": 34
        }
      },
      "cell_type": "code",
      "source": [
        "len(dummy_data[dummy_data[\"target\"]==1])"
      ],
      "execution_count": 0,
      "outputs": [
        {
          "output_type": "execute_result",
          "data": {
            "text/plain": [
              "40"
            ]
          },
          "metadata": {
            "tags": []
          },
          "execution_count": 11
        }
      ]
    },
    {
      "metadata": {
        "id": "YXR5ZZvZyB-L",
        "colab_type": "code",
        "outputId": "f264f50c-2679-4c90-c10f-142947233555",
        "colab": {
          "base_uri": "https://localhost:8080/",
          "height": 34
        }
      },
      "cell_type": "code",
      "source": [
        "len(dummy_data[dummy_data[\"target\"]==0])"
      ],
      "execution_count": 0,
      "outputs": [
        {
          "output_type": "execute_result",
          "data": {
            "text/plain": [
              "60"
            ]
          },
          "metadata": {
            "tags": []
          },
          "execution_count": 9
        }
      ]
    },
    {
      "metadata": {
        "id": "pdaltscSyEIF",
        "colab_type": "code",
        "outputId": "6499abf9-4892-4b5c-f857-810d465741de",
        "colab": {
          "base_uri": "https://localhost:8080/",
          "height": 34
        }
      },
      "cell_type": "code",
      "source": [
        "len(dummy_data[dummy_data[\"target\"]==0])*100/len(dummy_data)"
      ],
      "execution_count": 0,
      "outputs": [
        {
          "output_type": "execute_result",
          "data": {
            "text/plain": [
              "60.0"
            ]
          },
          "metadata": {
            "tags": []
          },
          "execution_count": 14
        }
      ]
    },
    {
      "metadata": {
        "id": "7eTnY39Re4J6",
        "colab_type": "code",
        "outputId": "12f683ce-c8cf-4f8b-8c7f-a46af3256983",
        "colab": {
          "base_uri": "https://localhost:8080/",
          "height": 34
        }
      },
      "cell_type": "code",
      "source": [
        "dummy_data['target'] = dummy_data['target'].apply(lambda x: 'female' if x == 1 else 'male')\n",
        "dummy_data['target'].unique()"
      ],
      "execution_count": 0,
      "outputs": [
        {
          "output_type": "execute_result",
          "data": {
            "text/plain": [
              "array(['male', 'female'], dtype=object)"
            ]
          },
          "metadata": {
            "tags": []
          },
          "execution_count": 12
        }
      ]
    },
    {
      "metadata": {
        "id": "_EkgW9WWpvyQ",
        "colab_type": "text"
      },
      "cell_type": "markdown",
      "source": [
        "Train a neural network with a single 10 node hidden layer. Only use the Height feature of the dataset to predict the Gender. You will have to change Gender to a 0 and 1 class. After training, use your trained model to predict the class using the height feature from the training set. What was the accuracy of this prediction?"
      ]
    },
    {
      "metadata": {
        "id": "LWqjf3wvz1av",
        "colab_type": "code",
        "outputId": "6107a8f7-ba26-4926-cd18-d3e10c4f0f32",
        "colab": {
          "base_uri": "https://localhost:8080/",
          "height": 85
        }
      },
      "cell_type": "code",
      "source": [
        "from sklearn import preprocessing #to transform the feature labels\n",
        "le = preprocessing.LabelEncoder()\n",
        "le.fit([\"male\", \"female\"])\n",
        "target = le.transform(dummy_data['target'])\n",
        "print('Label Encoding', target)\n",
        "\n",
        "\n",
        "from sklearn.neural_network import MLPClassifier\n",
        "X = dummy_data[['A', 'B']]\n",
        "y = target\n",
        "clf = MLPClassifier(solver='lbfgs', activation='logistic',\n",
        "hidden_layer_sizes=(10,), random_state=1)\n",
        "clf.fit(X, y)\n",
        "\n",
        "print('Accuracy on training set', 100*clf.score(X, target), '%')"
      ],
      "execution_count": 0,
      "outputs": [
        {
          "output_type": "stream",
          "text": [
            "Label Encoding [1 0 0 0 0 0 1 1 1 1 0 0 0 0 1 1 1 0 1 1 0 0 0 0 1 1 1 1 0 1 0 1 0 1 1 0 0\n",
            " 1 0 1 0 0 1 0 1 0 0 0 1 1 0 0 0 0 0 1 1 1 1 0 0 1 0 1 0 1 1 1 1 0 0 0 1 0\n",
            " 0 0 1 0 0 0 1 0 1 0 1 0 1 1 1 1 0 0 0 1 0 1 1 0 1 0]\n",
            "Accuracy on training set 73.0 %\n"
          ],
          "name": "stdout"
        }
      ]
    }
  ]
}