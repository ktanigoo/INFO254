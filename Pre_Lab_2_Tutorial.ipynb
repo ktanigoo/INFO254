{
  "nbformat": 4,
  "nbformat_minor": 0,
  "metadata": {
    "colab": {
      "name": "Pre-Lab 2 Tutorial.ipynb",
      "version": "0.3.2",
      "provenance": [],
      "collapsed_sections": [],
      "include_colab_link": true
    },
    "kernelspec": {
      "display_name": "Python 3",
      "language": "python",
      "name": "python3"
    }
  },
  "cells": [
    {
      "cell_type": "markdown",
      "metadata": {
        "id": "view-in-github",
        "colab_type": "text"
      },
      "source": [
        "<a href=\"https://colab.research.google.com/github/ktanigoo/INFO254/blob/master/Pre_Lab_2_Tutorial.ipynb\" target=\"_parent\"><img src=\"https://colab.research.google.com/assets/colab-badge.svg\" alt=\"Open In Colab\"/></a>"
      ]
    },
    {
      "metadata": {
        "id": "MSqq3csbxmPt",
        "colab_type": "text"
      },
      "cell_type": "markdown",
      "source": [
        "# Learning Goals:\n",
        "\n",
        "1. Jupyter functionality for markdown text\n",
        "2. Plotting with matplotlib\n",
        "3. Using scikit-learn for k-means\n",
        "4. Calculate silhouette_score"
      ]
    },
    {
      "metadata": {
        "id": "0w5zwiN8xmPw",
        "colab_type": "text"
      },
      "cell_type": "markdown",
      "source": [
        "# 1. Markdown"
      ]
    },
    {
      "metadata": {
        "id": "kbxMlZarxmPy",
        "colab_type": "text"
      },
      "cell_type": "markdown",
      "source": [
        "You can do cool stuff with markdown. You can make numbered or bullet lists. You can even write cool equations like: $\\sum{x}=\\log(y)$"
      ]
    },
    {
      "metadata": {
        "id": "zQeKXU9WxmPz",
        "colab_type": "text"
      },
      "cell_type": "markdown",
      "source": [
        ""
      ]
    },
    {
      "metadata": {
        "id": "NWWlHmvIxmP0",
        "colab_type": "text"
      },
      "cell_type": "markdown",
      "source": [
        "# 2. Matplotlib\n",
        "matplotlib.pyplot is a collection of command style functions that make matplotlib work like MATLAB. Each pyplot function makes some change to a figure: e.g., creates a figure, creates a plotting area in a figure, plots some lines in a plotting area, decorates the plot with labels, etc."
      ]
    },
    {
      "metadata": {
        "id": "6vPWgjxKxmP3",
        "colab_type": "code",
        "colab": {}
      },
      "cell_type": "code",
      "source": [
        "import numpy as np\n",
        "import matplotlib.pyplot as plt\n",
        "%matplotlib inline \n",
        "x=np.array(range(10))\n",
        "y=np.array([1,1.1,1.2,1.3,4,2.3,3.9,7,10,15])"
      ],
      "execution_count": 0,
      "outputs": []
    },
    {
      "metadata": {
        "id": "RbpurtbIxmQA",
        "colab_type": "code",
        "outputId": "227012d9-f579-4f8d-9fa8-8eb24264bc4a",
        "colab": {
          "base_uri": "https://localhost:8080/",
          "height": 265
        }
      },
      "cell_type": "code",
      "source": [
        "plt.plot(x,y)\n",
        "#plt.plot(x,y,color='r',linewidth=5)\n",
        "#plt.plot(x,y,x,-y)\n",
        "#plt.xlabel('Years')\n",
        "#plt.ylabel('Portfolio [$]')\n",
        "#plt.title('Stocks')\n",
        "#plt.legend(['good','bad'])\n",
        "#plt.xlim([-1,5])\n",
        "#plt.ylim([1,10])\n",
        "plt.show()\n"
      ],
      "execution_count": 0,
      "outputs": [
        {
          "output_type": "display_data",
          "data": {
            "image/png": "[encoded data removed]",
            "text/plain": [
              "<Figure size 432x288 with 1 Axes>"
            ]
          },
          "metadata": {
            "tags": []
          }
        }
      ]
    },
    {
      "metadata": {
        "id": "q72S5k4gxmQK",
        "colab_type": "code",
        "outputId": "f32f81ea-773d-4a81-e060-e2476d049cca",
        "colab": {
          "base_uri": "https://localhost:8080/",
          "height": 265
        }
      },
      "cell_type": "code",
      "source": [
        "plt.scatter(x,y)\n",
        "plt.scatter(x+5,y-5)\n",
        "plt.legend(['original','shifted'])\n",
        "plt.show()"
      ],
      "execution_count": 0,
      "outputs": [
        {
          "output_type": "display_data",
          "data": {
            "image/png": "[encoded data removed]",
            "text/plain": [
              "<Figure size 432x288 with 1 Axes>"
            ]
          },
          "metadata": {
            "tags": []
          }
        }
      ]
    },
    {
      "metadata": {
        "id": "iDRdBQR-xmQR",
        "colab_type": "code",
        "outputId": "3fd2d355-4b5a-46ed-ddc4-c9de681c6f1b",
        "colab": {
          "base_uri": "https://localhost:8080/",
          "height": 335
        }
      },
      "cell_type": "code",
      "source": [
        "plt.figure(1,figsize=(10,5))\n",
        "plt.subplot(121)\n",
        "plt.title('Plot 1')\n",
        "plt.plot(x,y)\n",
        "plt.subplot(122)\n",
        "plt.title('Plot 2')\n",
        "plt.plot(-x,-y)\n",
        "plt.show()"
      ],
      "execution_count": 0,
      "outputs": [
        {
          "output_type": "display_data",
          "data": {
            "image/png": "[encoded data removed]",
            "text/plain": [
              "<Figure size 720x360 with 2 Axes>"
            ]
          },
          "metadata": {
            "tags": []
          }
        }
      ]
    },
    {
      "metadata": {
        "id": "fsBtc1cfxmQZ",
        "colab_type": "text"
      },
      "cell_type": "markdown",
      "source": [
        "# 3. Scikit-learn K-means"
      ]
    },
    {
      "metadata": {
        "id": "LYtVopFgxmQb",
        "colab_type": "text"
      },
      "cell_type": "markdown",
      "source": [
        "http://scikit-learn.org/stable/modules/generated/sklearn.cluster.KMeans.html"
      ]
    },
    {
      "metadata": {
        "id": "hxU3Gl20xmQc",
        "colab_type": "code",
        "colab": {}
      },
      "cell_type": "code",
      "source": [
        "from sklearn.cluster import KMeans\n",
        "import numpy as np"
      ],
      "execution_count": 0,
      "outputs": []
    },
    {
      "metadata": {
        "id": "-tpYcQKExmQi",
        "colab_type": "code",
        "outputId": "d0db5746-cc1e-491a-d8ee-933d7565d4a4",
        "colab": {
          "base_uri": "https://localhost:8080/",
          "height": 34
        }
      },
      "cell_type": "code",
      "source": [
        "X = np.array([[1, 2], [1, 4], [1.5, 3], [4, 2], [4, 4], [3.5, 1.9],[3.7,3],[4.2,3.8]])\n",
        "print(X.shape)"
      ],
      "execution_count": 0,
      "outputs": [
        {
          "output_type": "stream",
          "text": [
            "(8, 2)\n"
          ],
          "name": "stdout"
        }
      ]
    },
    {
      "metadata": {
        "scrolled": true,
        "id": "44ESlJIIxmQq",
        "colab_type": "code",
        "outputId": "98bb2f4c-fe96-494a-e0fd-9734b50e4b35",
        "colab": {
          "base_uri": "https://localhost:8080/",
          "height": 269
        }
      },
      "cell_type": "code",
      "source": [
        "plt.scatter(X[:,0],X[:,1])\n",
        "plt.xlim([0,5])\n",
        "plt.ylim([0,5])\n",
        "plt.show()"
      ],
      "execution_count": 0,
      "outputs": [
        {
          "output_type": "display_data",
          "data": {
            "image/png": "[encoded data removed]",
            "text/plain": [
              "<Figure size 432x288 with 1 Axes>"
            ]
          },
          "metadata": {
            "tags": []
          }
        }
      ]
    },
    {
      "metadata": {
        "id": "dpI0PG4NxmQ0",
        "colab_type": "code",
        "colab": {}
      },
      "cell_type": "code",
      "source": [
        "kmeans = KMeans(n_clusters=2, random_state=0).fit(X)"
      ],
      "execution_count": 0,
      "outputs": []
    },
    {
      "metadata": {
        "id": "ep-yyrkaxmQ4",
        "colab_type": "code",
        "outputId": "863474e3-4365-489e-82b1-b56e1c6ade57",
        "colab": {
          "base_uri": "https://localhost:8080/",
          "height": 34
        }
      },
      "cell_type": "code",
      "source": [
        "kmeans.labels_"
      ],
      "execution_count": 0,
      "outputs": [
        {
          "output_type": "execute_result",
          "data": {
            "text/plain": [
              "array([1, 1, 1, 0, 0, 0, 0, 0], dtype=int32)"
            ]
          },
          "metadata": {
            "tags": []
          },
          "execution_count": 9
        }
      ]
    },
    {
      "metadata": {
        "id": "5Q8p6FyxxmRB",
        "colab_type": "code",
        "outputId": "cd751468-f5df-405b-8c65-05a25abfd172",
        "colab": {
          "base_uri": "https://localhost:8080/",
          "height": 34
        }
      },
      "cell_type": "code",
      "source": [
        "kmeans.predict([[0, 0], [4, 4]])"
      ],
      "execution_count": 0,
      "outputs": [
        {
          "output_type": "execute_result",
          "data": {
            "text/plain": [
              "array([1, 0], dtype=int32)"
            ]
          },
          "metadata": {
            "tags": []
          },
          "execution_count": 10
        }
      ]
    },
    {
      "metadata": {
        "id": "kuOe2fojxmRN",
        "colab_type": "code",
        "outputId": "77700e19-58d1-4300-e323-524b2bb093f7",
        "colab": {
          "base_uri": "https://localhost:8080/",
          "height": 51
        }
      },
      "cell_type": "code",
      "source": [
        "kmeans.cluster_centers_"
      ],
      "execution_count": 0,
      "outputs": [
        {
          "output_type": "execute_result",
          "data": {
            "text/plain": [
              "array([[3.88      , 2.94      ],\n",
              "       [1.16666667, 3.        ]])"
            ]
          },
          "metadata": {
            "tags": []
          },
          "execution_count": 11
        }
      ]
    },
    {
      "metadata": {
        "id": "wIfZoQE2xmRS",
        "colab_type": "code",
        "outputId": "9022fca4-bc10-4df6-82cd-904857359366",
        "colab": {
          "base_uri": "https://localhost:8080/",
          "height": 265
        }
      },
      "cell_type": "code",
      "source": [
        "plt.scatter(X[:,0],X[:,1])\n",
        "plt.scatter(kmeans.cluster_centers_[:,0],kmeans.cluster_centers_[:,1])\n",
        "plt.legend(['Training Data','Cluster Center'])\n",
        "plt.show()"
      ],
      "execution_count": 0,
      "outputs": [
        {
          "output_type": "display_data",
          "data": {
            "image/png": "[encoded data removed]",
            "text/plain": [
              "<Figure size 432x288 with 1 Axes>"
            ]
          },
          "metadata": {
            "tags": []
          }
        }
      ]
    },
    {
      "metadata": {
        "id": "YQxQ03iKxmRe",
        "colab_type": "text"
      },
      "cell_type": "markdown",
      "source": [
        "# 4. Scikit-learn Silhouette_score"
      ]
    },
    {
      "metadata": {
        "id": "yoxVJjcexmRg",
        "colab_type": "text"
      },
      "cell_type": "markdown",
      "source": [
        "The Silhouette Coefficient is calculated using the mean intra-cluster distance (a) and the mean nearest-cluster distance (b) for each sample. The Silhouette Coefficient for a sample is $\\frac{(b - a)}{\\max(a, b)}$. To clarify, b is the distance between a sample and the nearest cluster that the sample is not a part of.\n",
        "\n",
        "http://scikit-learn.org/stable/modules/generated/sklearn.metrics.silhouette_score.html"
      ]
    },
    {
      "metadata": {
        "id": "02IXD7zqxmRi",
        "colab_type": "code",
        "colab": {}
      },
      "cell_type": "code",
      "source": [
        "from sklearn.metrics import silhouette_score"
      ],
      "execution_count": 0,
      "outputs": []
    },
    {
      "metadata": {
        "id": "eeDhQu8yxmRs",
        "colab_type": "code",
        "colab": {}
      },
      "cell_type": "code",
      "source": [
        "score = silhouette_score(X, kmeans.labels_)"
      ],
      "execution_count": 0,
      "outputs": []
    },
    {
      "metadata": {
        "id": "VfzqIPAVxmR5",
        "colab_type": "code",
        "outputId": "21827e01-d47e-4b0c-d88f-d68e3b278592",
        "colab": {
          "base_uri": "https://localhost:8080/",
          "height": 34
        }
      },
      "cell_type": "code",
      "source": [
        "print(score)"
      ],
      "execution_count": 0,
      "outputs": [
        {
          "output_type": "stream",
          "text": [
            "0.5466880662894869\n"
          ],
          "name": "stdout"
        }
      ]
    },
    {
      "metadata": {
        "id": "ecCHaDZqxmSA",
        "colab_type": "code",
        "outputId": "0adf49b5-ea3b-43c1-d902-1fbb73f9adfe",
        "colab": {
          "base_uri": "https://localhost:8080/",
          "height": 269
        }
      },
      "cell_type": "code",
      "source": [
        "X = np.array([[1.1, 1.1], [1, 1.1], [1.1, 1], [4, 2], [4, 2.1], [4.1, 1.9]])\n",
        "plt.scatter(X[:,0],X[:,1])\n",
        "plt.xlim([0,5])\n",
        "plt.ylim([0,5])\n",
        "plt.show()"
      ],
      "execution_count": 0,
      "outputs": [
        {
          "output_type": "display_data",
          "data": {
            "image/png": "[encoded data removed]",
            "text/plain": [
              "<Figure size 432x288 with 1 Axes>"
            ]
          },
          "metadata": {
            "tags": []
          }
        }
      ]
    },
    {
      "metadata": {
        "id": "i6vcgukaxmSH",
        "colab_type": "code",
        "colab": {}
      },
      "cell_type": "code",
      "source": [
        "kmeans = KMeans(n_clusters=2, random_state=0).fit(X)"
      ],
      "execution_count": 0,
      "outputs": []
    },
    {
      "metadata": {
        "id": "xlp-sb4UxmSM",
        "colab_type": "code",
        "outputId": "5a1116bd-93ed-42af-a905-d58d084a8499",
        "colab": {
          "base_uri": "https://localhost:8080/",
          "height": 34
        }
      },
      "cell_type": "code",
      "source": [
        "kmeans.labels_"
      ],
      "execution_count": 0,
      "outputs": [
        {
          "output_type": "execute_result",
          "data": {
            "text/plain": [
              "array([1, 1, 1, 0, 0, 0], dtype=int32)"
            ]
          },
          "metadata": {
            "tags": []
          },
          "execution_count": 18
        }
      ]
    },
    {
      "metadata": {
        "id": "5zSGQlWpxmSU",
        "colab_type": "code",
        "colab": {}
      },
      "cell_type": "code",
      "source": [
        "score = silhouette_score(X, kmeans.labels_)"
      ],
      "execution_count": 0,
      "outputs": []
    },
    {
      "metadata": {
        "id": "pV_utA2fxmSZ",
        "colab_type": "code",
        "outputId": "fadfcde3-5388-4632-c1d3-9c16698f6733",
        "colab": {
          "base_uri": "https://localhost:8080/",
          "height": 34
        }
      },
      "cell_type": "code",
      "source": [
        "print(score)"
      ],
      "execution_count": 0,
      "outputs": [
        {
          "output_type": "stream",
          "text": [
            "0.9568524975965825\n"
          ],
          "name": "stdout"
        }
      ]
    },
    {
      "metadata": {
        "id": "qShVjwPOxmSf",
        "colab_type": "code",
        "colab": {}
      },
      "cell_type": "code",
      "source": [
        "#How would you figure out the best k ? (Number of clusters) "
      ],
      "execution_count": 0,
      "outputs": []
    },
    {
      "metadata": {
        "id": "H7GhvWgawaNF",
        "colab_type": "code",
        "colab": {}
      },
      "cell_type": "code",
      "source": [
        ""
      ],
      "execution_count": 0,
      "outputs": []
    }
  ]
}